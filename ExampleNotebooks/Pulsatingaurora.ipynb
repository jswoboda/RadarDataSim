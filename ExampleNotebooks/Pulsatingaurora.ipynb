{
 "cells": [
  {
   "cell_type": "markdown",
   "metadata": {},
   "source": [
    "# Import Stuff"
   ]
  },
  {
   "cell_type": "code",
   "execution_count": 6,
   "metadata": {
    "collapsed": false
   },
   "outputs": [
    {
     "name": "stderr",
     "output_type": "stream",
     "text": [
      "/Users/Bodangles/anaconda/lib/python2.7/site-packages/matplotlib/__init__.py:1357: UserWarning:  This call to matplotlib.use() has no effect\n",
      "because the backend has already been chosen;\n",
      "matplotlib.use() must be called *before* pylab, matplotlib.pyplot,\n",
      "or matplotlib.backends is imported for the first time.\n",
      "\n",
      "  warnings.warn(_use_error_msg)\n"
     ]
    }
   ],
   "source": [
    "%matplotlib inline\n",
    "import matplotlib.pyplot as plt\n",
    "import scipy as sp\n",
    "import scipy.fftpack as scfft\n",
    "from SimISR.utilFunctions import makesumrule,MakePulseDataRepLPC,spect2acf,acf2spect,CenteredLagProduct\n",
    "from SimISR.IonoContainer import IonoContainer,MakeTestIonoclass\n",
    "from ISRSpectrum.ISRSpectrum import ISRSpectrum\n",
    "from SimISR.analysisplots import analysisdump\n",
    "import seaborn as sns"
   ]
  },
  {
   "cell_type": "code",
   "execution_count": null,
   "metadata": {
    "collapsed": true
   },
   "outputs": [],
   "source": [
    "dt=1.\n",
    "PT=30\n",
    "timevec=sp.arange(50.)*dt\n",
    "\n",
    "# set the number of pulses\n",
    "npulses = 2000\n",
    "curloc = Path.cwd()\n",
    "testpath = curloc.parent.joinpath('Testdata','PulsatingNotebook')\n",
    "testpath.mkdir(exist_ok=True,parents=True)\n",
    "\n",
    "defaultpath = curloc.parent.joinpath('Test')\n",
    "defcon = defaultpath.joinpath('statsbase.ini')\n",
    "(sensdict,simparams) = readconfigfile(str(defcon))\n",
    "\n",
    "tint = simparams['IPP']*npulses\n",
    "ratio1 = tint/simparams['Tint']\n",
    "simparams['Tint']=ratio1 * simparams['Tint']\n",
    "simparams['Fitinter'] = ratio1 * simparams['Fitinter']\n",
    "simparams['TimeLim'] = tint\n",
    "\n",
    "simparams['startfile']='startfile.h5'\n",
    "makeconfigfile(str(testpath.joinpath('stats.ini')),simparams['Beamlist'],sensdict['Name'],simparams)"
   ]
  },
  {
   "cell_type": "code",
   "execution_count": null,
   "metadata": {
    "collapsed": true
   },
   "outputs": [],
   "source": [
    "finalpath = testpath.joinpath('Origparams')\n",
    "finalpath.mkdir(exist_ok=True,parents=True)\n",
    "z = (50.+sp.arange(120)*5.)\n",
    "nz = len(z)\n",
    "coords = sp.column_stack((sp.zeros((nz,2)),z))\n",
    "Icont1=MakeTestIonoclass(testv=False,testtemp=True,N_0=1e11,z_0=250.0,H_0=50.0,coords=coords,times =sp.array([[0,1e6]]))\n",
    "\n",
    "Icontstart = MakeTestIonoclass(testv=False,testtemp=False,N_0=1e11,z_0=250.0,H_0=50.0,coords=coords,times =sp.array([[0,1e6]]))\n",
    "\n",
    "finalfile = os.path.join(finalpath,'0 stats.h5')\n",
    "Icont1.saveh5(finalfile)\n",
    "Icontstart.saveh5(os.path.join(testpath,'startfile.h5'))"
   ]
  },
  {
   "cell_type": "code",
   "execution_count": null,
   "metadata": {
    "collapsed": true
   },
   "outputs": [],
   "source": [
    "functlist = ['spectrums','radardata','fitting']\n",
    "\n",
    "config = os.path.join(testpath,'stats.ini')\n",
    "\n",
    "runsim(functlist,testpath,config,True)"
   ]
  },
  {
   "cell_type": "code",
   "execution_count": null,
   "metadata": {
    "collapsed": true
   },
   "outputs": [],
   "source": [
    "sns.set_style(\"whitegrid\")\n",
    "sns.set_context(\"notebook\")\n",
    "fig1,axmat =plt.subplots(1,3,figsize = (16,7),sharey=True)\n",
    "axvec = axmat.flatten()\n",
    "fittedfile = os.path.join(testpath,'Fitted','fitteddata.h5')\n",
    "fitiono = IonoContainer.readh5(fittedfile)\n",
    "paramlist = ['Ne','Te','Ti']\n",
    "indlist =[sp.argwhere(ip==fitiono.Param_Names)[0][0] for ip in paramlist]\n",
    "n_indlist =[sp.argwhere(('n'+ip)==fitiono.Param_Names)[0][0] for ip in paramlist]\n",
    "\n",
    "altin =Icont1.Cart_Coords[:,2]\n",
    "altfit = fitiono.Cart_Coords[:,2]\n",
    "\n",
    "in_ind=[[1,0],[1,1],[0,1]]\n",
    "pbounds = [[1e10,1.2e11],[200.,3000.],[200.,2500.],[-100.,100.]]\n",
    "for i,iax in enumerate(axvec):\n",
    "    iinind = in_ind[i]\n",
    "    ifitind = indlist[i]\n",
    "    n_ifitind = n_indlist[i]\n",
    "    #plot input\n",
    "    indata = Icont1.Param_List[:,0,iinind[0],iinind[1]]\n",
    "    iax.plot(indata,altin)\n",
    "    #plot fitted data\n",
    "    fitdata = fitiono.Param_List[:,0,ifitind]\n",
    "    fit_error = fitiono.Param_List[:,0,n_ifitind]\n",
    "    ploth=iax.plot(fitdata,altfit)[0]\n",
    "    iax.set_xlim(pbounds[i])\n",
    "    iax.errorbar(fitdata,altfit,xerr=fit_error,fmt='-o',color=ploth.get_color())\n",
    "    iax.set_title(paramlist[i])"
   ]
  }
 ],
 "metadata": {
  "anaconda-cloud": {},
  "kernelspec": {
   "display_name": "Python [conda root]",
   "language": "python",
   "name": "conda-root-py"
  },
  "language_info": {
   "codemirror_mode": {
    "name": "ipython",
    "version": 2
   },
   "file_extension": ".py",
   "mimetype": "text/x-python",
   "name": "python",
   "nbconvert_exporter": "python",
   "pygments_lexer": "ipython2",
   "version": "2.7.12"
  }
 },
 "nbformat": 4,
 "nbformat_minor": 1
}
