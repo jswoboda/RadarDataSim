{
 "cells": [
  {
   "cell_type": "markdown",
   "metadata": {},
   "source": [
    "# Import Stuff"
   ]
  },
  {
   "cell_type": "code",
   "execution_count": 6,
   "metadata": {
    "collapsed": false
   },
   "outputs": [
    {
     "name": "stderr",
     "output_type": "stream",
     "text": [
      "/Users/Bodangles/anaconda/lib/python2.7/site-packages/matplotlib/__init__.py:1357: UserWarning:  This call to matplotlib.use() has no effect\n",
      "because the backend has already been chosen;\n",
      "matplotlib.use() must be called *before* pylab, matplotlib.pyplot,\n",
      "or matplotlib.backends is imported for the first time.\n",
      "\n",
      "  warnings.warn(_use_error_msg)\n"
     ]
    }
   ],
   "source": [
    "%matplotlib inline\n",
    "import matplotlib.pyplot as plt\n",
    "import scipy as sp\n",
    "import scipy.fftpack as scfft\n",
    "from SimISR.utilFunctions import makesumrule,MakePulseDataRepLPC,spect2acf,acf2spect,CenteredLagProduct\n",
    "from SimISR.IonoContainer import IonoContainer,MakeTestIonoclass\n",
    "from ISRSpectrum.ISRSpectrum import ISRSpectrum\n",
    "from SimISR.analysisplots import analysisdump\n",
    "import seaborn as sns"
   ]
  },
  {
   "cell_type": "code",
   "execution_count": null,
   "metadata": {
    "collapsed": true
   },
   "outputs": [],
   "source": [
    "# set the number of pulses\n",
    "npulses = 2000\n",
    "curloc = Path.cwd()\n",
    "testpath = curloc.parent.joinpath('Testdata','PulsatingNotebook')\n",
    "testpath.mkdir(exist_ok=True,parents=True)\n",
    "\n",
    "defaultpath = curloc.parent.joinpath('Test')\n",
    "defcon = defaultpath.joinpath('statsbase.ini')\n",
    "(sensdict,simparams) = readconfigfile(str(defcon))\n",
    "\n",
    "tint = simparams['IPP']*npulses\n",
    "ratio1 = tint/simparams['Tint']\n",
    "simparams['Tint']=ratio1 * simparams['Tint']\n",
    "simparams['Fitinter'] = ratio1 * simparams['Fitinter']\n",
    "simparams['TimeLim'] = tint\n",
    "\n",
    "simparams['startfile']='startfile.h5'\n",
    "makeconfigfile(str(testpath.joinpath('stats.ini')),simparams['Beamlist'],sensdict['Name'],simparams)"
   ]
  }
 ],
 "metadata": {
  "anaconda-cloud": {},
  "kernelspec": {
   "display_name": "Python [conda root]",
   "language": "python",
   "name": "conda-root-py"
  },
  "language_info": {
   "codemirror_mode": {
    "name": "ipython",
    "version": 2
   },
   "file_extension": ".py",
   "mimetype": "text/x-python",
   "name": "python",
   "nbconvert_exporter": "python",
   "pygments_lexer": "ipython2",
   "version": "2.7.12"
  }
 },
 "nbformat": 4,
 "nbformat_minor": 1
}
