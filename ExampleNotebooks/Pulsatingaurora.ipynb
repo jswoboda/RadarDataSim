{
 "cells": [
  {
   "cell_type": "markdown",
   "metadata": {},
   "source": [
    "# Pulsating Aurora\n",
    "\n",
    "This notebook will run the ISR simulator with plasma state parameters that occur during pulsating aurora.  "
   ]
  },
  {
   "cell_type": "markdown",
   "metadata": {},
   "source": [
    "## Import Stuff\n",
    "\n",
    "Mainly import matplotlib, scipy and other packages for processing and plotting. Along with functions from the SimISR module."
   ]
  },
  {
   "cell_type": "code",
   "execution_count": 6,
   "metadata": {
    "collapsed": false
   },
   "outputs": [
    {
     "name": "stderr",
     "output_type": "stream",
     "text": [
      "/Users/Bodangles/anaconda/lib/python2.7/site-packages/matplotlib/__init__.py:1357: UserWarning:  This call to matplotlib.use() has no effect\n",
      "because the backend has already been chosen;\n",
      "matplotlib.use() must be called *before* pylab, matplotlib.pyplot,\n",
      "or matplotlib.backends is imported for the first time.\n",
      "\n",
      "  warnings.warn(_use_error_msg)\n"
     ]
    }
   ],
   "source": [
    "%matplotlib inline\n",
    "import matplotlib.pyplot as plt\n",
    "import scipy as sp\n",
    "import seaborn as sns\n",
    "#SimISR packages\n",
    "from SimISR.utilFunctions import readconfigfile,makeconfigfile\n",
    "from SimISR.runsim import main as runsim \n",
    "from SimISR.IonoContainer import IonoContainer,MakeTestIonoclass\n",
    "from SimISR.analysisplots import analysisdump"
   ]
  },
  {
   "cell_type": "markdown",
   "metadata": {},
   "source": [
    "## Input Parameter Set Up\n",
    "\n",
    "The following cell will set up the pulsating aurora input plasma parameters. The model of the parameters will be Ne(1+ehn_lev*sin(2*pi*t/PT))"
   ]
  },
  {
   "cell_type": "code",
   "execution_count": null,
   "metadata": {
    "collapsed": true
   },
   "outputs": [],
   "source": [
    "# Pulsating aurora parameters\n",
    "PT=30.# the period of pulsation in seconds.\n",
    "ehn_lev=2. # level of enhancement.\n",
    "pa_range=[250.,300.]# range of pulsation along altitude in km\n",
    "\n",
    "# set up the time and space vectors\n",
    "dt=1.\n",
    "timevec=sp.arange(120.)*dt\n",
    "z = (50.+sp.arange(120)*5.)\n",
    "nz = len(z)\n",
    "coords = sp.column_stack((sp.zeros((nz,2)),z))\n",
    "# Create the weighting for the pulsation\n",
    "logar=sp.logical_and((z>=pa_range[0]),(z<pa_range[1]))\n",
    "PA_weight=1+.5*(ehn_lev-1)*(1-sp.cos(2.*sp.pi*timevec/PT))\n",
    "PA_weight_rep = sp.tile(PA_weight[sp.newaxis,:],[logar.sum(),1])\n",
    "\n",
    "# Make a set of input parameters with a electron density modeled by a Chapman function and an electron and ion temperature\n",
    "# modeled as shifted and scalled atan functions.\n",
    "Icont1=MakeTestIonoclass(testv=False,testtemp=True,N_0=1e11,z_0=250.0,H_0=50.0,coords=coords,times=timevec)\n",
    "# Apply windowing to the electron density \n",
    "Icont1.Param_List[logar,:,-1,0]=PA_weight_rep*Icont1.Param_List[logar,:,-1,0]\n",
    "\n",
    "# Create the starting point data for the fitter.\n",
    "Icontstart = MakeTestIonoclass(testv=False,testtemp=False,N_0=1e11,z_0=250.0,H_0=50.0,\n",
    "                               coords=coords,times =sp.array([[0,1e6]]))"
   ]
  },
  {
   "cell_type": "markdown",
   "metadata": {},
   "source": [
    "## Set up for Simulation\n",
    "\n",
    "Set up parameters for simulation like pulse length, pulse type, beam positions, "
   ]
  },
  {
   "cell_type": "code",
   "execution_count": null,
   "metadata": {
    "collapsed": true
   },
   "outputs": [],
   "source": [
    "# set the number of pulses\n",
    "npulses = 2000\n",
    "curloc = Path.cwd()\n",
    "testpath = curloc.parent.joinpath('Testdata','PulsatingNotebook')\n",
    "testpath.mkdir(exist_ok=True,parents=True)\n",
    "\n",
    "defaultpath = curloc.parent.joinpath('Test')\n",
    "defcon = defaultpath.joinpath('statsbase.ini')\n",
    "(sensdict,simparams) = readconfigfile(str(defcon))\n",
    "\n",
    "tint = simparams['IPP']*npulses\n",
    "ratio1 = tint/simparams['Tint']\n",
    "simparams['Tint']=ratio1 * simparams['Tint']\n",
    "simparams['Fitinter'] = ratio1 * simparams['Fitinter']\n",
    "simparams['TimeLim'] = tint\n",
    "\n",
    "simparams['startfile']='startfile.h5'\n",
    "makeconfigfile(str(testpath.joinpath('stats.ini')),simparams['Beamlist'],sensdict['Name'],simparams)"
   ]
  },
  {
   "cell_type": "code",
   "execution_count": null,
   "metadata": {
    "collapsed": true
   },
   "outputs": [],
   "source": [
    "finalpath = testpath.joinpath('Origparams')\n",
    "finalpath.mkdir(exist_ok=True,parents=True)\n",
    "\n",
    "\n",
    "finalfile = os.path.join(finalpath,'0 stats.h5')\n",
    "Icont1.saveh5(finalfile)\n",
    "Icontstart.saveh5(os.path.join(testpath,'startfile.h5'))"
   ]
  },
  {
   "cell_type": "code",
   "execution_count": null,
   "metadata": {
    "collapsed": true
   },
   "outputs": [],
   "source": [
    "functlist = ['spectrums','radardata','fitting']\n",
    "\n",
    "config = os.path.join(testpath,'stats.ini')\n",
    "\n",
    "runsim(functlist,testpath,config,True)"
   ]
  },
  {
   "cell_type": "code",
   "execution_count": null,
   "metadata": {
    "collapsed": true
   },
   "outputs": [],
   "source": [
    "sns.set_style(\"whitegrid\")\n",
    "sns.set_context(\"notebook\")\n",
    "fig1,axmat =plt.subplots(1,3,figsize = (16,7),sharey=True)\n",
    "axvec = axmat.flatten()\n",
    "fittedfile = os.path.join(testpath,'Fitted','fitteddata.h5')\n",
    "fitiono = IonoContainer.readh5(fittedfile)\n",
    "paramlist = ['Ne','Te','Ti']\n",
    "indlist =[sp.argwhere(ip==fitiono.Param_Names)[0][0] for ip in paramlist]\n",
    "n_indlist =[sp.argwhere(('n'+ip)==fitiono.Param_Names)[0][0] for ip in paramlist]\n",
    "\n",
    "altin =Icont1.Cart_Coords[:,2]\n",
    "altfit = fitiono.Cart_Coords[:,2]\n",
    "\n",
    "in_ind=[[1,0],[1,1],[0,1]]\n",
    "pbounds = [[1e10,1.2e11],[200.,3000.],[200.,2500.],[-100.,100.]]\n",
    "for i,iax in enumerate(axvec):\n",
    "    iinind = in_ind[i]\n",
    "    ifitind = indlist[i]\n",
    "    n_ifitind = n_indlist[i]\n",
    "    #plot input\n",
    "    indata = Icont1.Param_List[:,0,iinind[0],iinind[1]]\n",
    "    iax.plot(indata,altin)\n",
    "    #plot fitted data\n",
    "    fitdata = fitiono.Param_List[:,0,ifitind]\n",
    "    fit_error = fitiono.Param_List[:,0,n_ifitind]\n",
    "    ploth=iax.plot(fitdata,altfit)[0]\n",
    "    iax.set_xlim(pbounds[i])\n",
    "    iax.errorbar(fitdata,altfit,xerr=fit_error,fmt='-o',color=ploth.get_color())\n",
    "    iax.set_title(paramlist[i])"
   ]
  }
 ],
 "metadata": {
  "anaconda-cloud": {},
  "kernelspec": {
   "display_name": "Python [conda root]",
   "language": "python",
   "name": "conda-root-py"
  },
  "language_info": {
   "codemirror_mode": {
    "name": "ipython",
    "version": 2
   },
   "file_extension": ".py",
   "mimetype": "text/x-python",
   "name": "python",
   "nbconvert_exporter": "python",
   "pygments_lexer": "ipython2",
   "version": "2.7.13"
  }
 },
 "nbformat": 4,
 "nbformat_minor": 1
}
