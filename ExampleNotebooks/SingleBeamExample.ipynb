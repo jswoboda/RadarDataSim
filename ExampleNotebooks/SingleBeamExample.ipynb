{
 "cells": [
  {
   "cell_type": "markdown",
   "metadata": {},
   "source": [
    "# Single Beam\n",
    "This notebook will run the ISR simulator with a set of data created from a function that makes test data. The results along with error bars are plotted below."
   ]
  },
  {
   "cell_type": "code",
   "execution_count": 1,
   "metadata": {
    "collapsed": false
   },
   "outputs": [
    {
     "name": "stderr",
     "output_type": "stream",
     "text": [
      "/Users/Bodangles/anaconda/lib/python2.7/site-packages/matplotlib/__init__.py:1357: UserWarning:  This call to matplotlib.use() has no effect\n",
      "because the backend has already been chosen;\n",
      "matplotlib.use() must be called *before* pylab, matplotlib.pyplot,\n",
      "or matplotlib.backends is imported for the first time.\n",
      "\n",
      "  warnings.warn(_use_error_msg)\n"
     ]
    }
   ],
   "source": [
    "%matplotlib inline\n",
    "import matplotlib.pyplot as plt\n",
    "import os,inspect\n",
    "from SimISR import Path\n",
    "import scipy as sp\n",
    "from SimISR.utilFunctions import readconfigfile,makeconfigfile\n",
    "from SimISR.IonoContainer import IonoContainer,MakeTestIonoclass\n",
    "from SimISR.runsim import main as runsim \n",
    "from SimISR.analysisplots import analysisdump\n",
    "import seaborn as sns"
   ]
  },
  {
   "cell_type": "markdown",
   "metadata": {},
   "source": [
    "## Set up Config Files\n",
    "Setting up a configuration files and the directory needed to run the simulation. The simualtor assumes that for each simulation there is a dedicated directory to save out data along the different processing stages. The simulator also assumes that there is a configuration file which is created in the following cell using a default one that comes with the code base. The only parameter the user should have to set is the number of pulses."
   ]
  },
  {
   "cell_type": "code",
   "execution_count": 2,
   "metadata": {
    "collapsed": false
   },
   "outputs": [
    {
     "name": "stderr",
     "output_type": "stream",
     "text": [
      "/Users/Bodangles/anaconda/lib/python2.7/site-packages/numpy/core/numeric.py:190: VisibleDeprecationWarning: using a non-integer number instead of an integer will result in an error in the future\n",
      "  a = empty(shape, dtype, order)\n",
      "/Users/Bodangles/Documents/Python/SimISR/SimISR/utilFunctions.py:698: UserWarning: No start file given\n",
      "  warnings.warn('No start file given',UserWarning)\n"
     ]
    }
   ],
   "source": [
    "# set the number of pulses\n",
    "npulses = 2000\n",
    "curloc = os.path.dirname(os.path.abspath(inspect.getfile(inspect.currentframe())))\n",
    "testpath = os.path.join(os.path.split(curloc)[0],'Testdata','Notebookexample1')\n",
    "if not os.path.isdir(testpath):\n",
    "    os.mkdir(testpath)\n",
    "\n",
    "defaultpath = os.path.join(os.path.split(curloc)[0],'Test')\n",
    "defcon = os.path.join(defaultpath,'statsbase.ini')\n",
    "(sensdict,simparams) = readconfigfile(defcon)\n",
    "\n",
    "tint = simparams['IPP']*npulses\n",
    "ratio1 = tint/simparams['Tint']\n",
    "simparams['Tint']=ratio1 * simparams['Tint']\n",
    "simparams['Fitinter'] = ratio1 * simparams['Fitinter']\n",
    "simparams['TimeLim'] = tint\n",
    "\n",
    "simparams['startfile']='startfile.h5'\n",
    "makeconfigfile(os.path.join(testpath,'stats.ini'),simparams['Beamlist'],sensdict['Name'],simparams)"
   ]
  },
  {
   "cell_type": "markdown",
   "metadata": {
    "collapsed": true
   },
   "source": [
    "## Make Input Data\n",
    "This section will create a set of input parmeters that can be used to create ISR Data. It uses a function MakeTestIonoclass which will create a set of plasma parameters that varies with altitude depending on the the function inputs. This data is put into an ionocontainer class, which is used as a container class to move data between the radarData class, fitter class and plotting modules. It has a standard format so any radar data or plasma parameters for the simulator can be saved in this.\n",
    "\n",
    "A start file is also made which will be used as the starting parameter values used in the fitter. The starting points for the fitter use a nearest neighbor in space to what is found in the start file."
   ]
  },
  {
   "cell_type": "code",
   "execution_count": 3,
   "metadata": {
    "collapsed": false
   },
   "outputs": [],
   "source": [
    "\n",
    "finalpath = os.path.join(testpath,'Origparams')\n",
    "if not os.path.isdir(finalpath):\n",
    "    os.mkdir(finalpath)\n",
    "z = (50.+sp.arange(120)*5.)\n",
    "nz = len(z)\n",
    "coords = sp.column_stack((sp.zeros((nz,2)),z))\n",
    "Icont1=MakeTestIonoclass(testv=False,testtemp=True,N_0=1e11,z_0=250.0,H_0=50.0,coords=coords,times =sp.array([[0,1e6]]))\n",
    "\n",
    "Icontstart = MakeTestIonoclass(testv=False,testtemp=False,N_0=1e11,z_0=250.0,H_0=50.0,coords=coords,times =sp.array([[0,1e6]]))\n",
    "\n",
    "finalfile = os.path.join(finalpath,'0 stats.h5')\n",
    "Icont1.saveh5(finalfile)\n",
    "Icontstart.saveh5(os.path.join(testpath,'startfile.h5'))"
   ]
  },
  {
   "cell_type": "markdown",
   "metadata": {},
   "source": [
    "## Run Simulation\n",
    "The simulation is run through the submodule runsim and its main function, renamed in this as runsim. This function will call all of the neccesary classes and functions to run the simulator. It will save out the data based off of an internal set of file names.\n",
    "\n",
    "This function must get a configuration file and a list of functionalities it is to perform. Below the runsim function will create spectra form the plasma parameters, create radar data and then fit it."
   ]
  },
  {
   "cell_type": "code",
   "execution_count": 4,
   "metadata": {
    "collapsed": false
   },
   "outputs": [
    {
     "name": "stdout",
     "output_type": "stream",
     "text": [
      "Processing file 0 stats.h5 starting at 2016-12-03 18:17:42.603779\n",
      "\n",
      "\t Time:0 of 1 Location:0 of 120, now making spectrum.\n",
      "\t Time:0 of 1 Location:1 of 120, now making spectrum.\n",
      "\t Time:0 of 1 Location:2 of 120, now making spectrum.\n",
      "\t Time:0 of 1 Location:3 of 120, now making spectrum.\n",
      "\t Time:0 of 1 Location:4 of 120, now making spectrum.\n",
      "\t Time:0 of 1 Location:5 of 120, now making spectrum.\n",
      "\t Time:0 of 1 Location:6 of 120, now making spectrum.\n",
      "\t Time:0 of 1 Location:7 of 120, now making spectrum.\n",
      "\t Time:0 of 1 Location:8 of 120, now making spectrum.\n",
      "\t Time:0 of 1 Location:9 of 120, now making spectrum.\n",
      "\t Time:0 of 1 Location:10 of 120, now making spectrum.\n",
      "\t Time:0 of 1 Location:11 of 120, now making spectrum.\n",
      "\t Time:0 of 1 Location:12 of 120, now making spectrum.\n",
      "\t Time:0 of 1 Location:13 of 120, now making spectrum.\n",
      "\t Time:0 of 1 Location:14 of 120, now making spectrum.\n",
      "\t Time:0 of 1 Location:15 of 120, now making spectrum.\n",
      "\t Time:0 of 1 Location:16 of 120, now making spectrum.\n",
      "\t Time:0 of 1 Location:17 of 120, now making spectrum.\n"
     ]
    },
    {
     "name": "stderr",
     "output_type": "stream",
     "text": [
      "/Users/Bodangles/Documents/Python/SimISR/SimISR/specfunctions.py:39: VisibleDeprecationWarning: using a non-integer number instead of an integer will result in an error in the future\n",
      "  outspecs = sp.zeros((N_x,N_t,npts))\n"
     ]
    },
    {
     "name": "stdout",
     "output_type": "stream",
     "text": [
      "\t Time:0 of 1 Location:18 of 120, now making spectrum.\n",
      "\t Time:0 of 1 Location:19 of 120, now making spectrum.\n",
      "\t Time:0 of 1 Location:20 of 120, now making spectrum.\n",
      "\t Time:0 of 1 Location:21 of 120, now making spectrum.\n",
      "\t Time:0 of 1 Location:22 of 120, now making spectrum.\n",
      "\t Time:0 of 1 Location:23 of 120, now making spectrum.\n",
      "\t Time:0 of 1 Location:24 of 120, now making spectrum.\n",
      "\t Time:0 of 1 Location:25 of 120, now making spectrum.\n",
      "\t Time:0 of 1 Location:26 of 120, now making spectrum.\n",
      "\t Time:0 of 1 Location:27 of 120, now making spectrum.\n",
      "\t Time:0 of 1 Location:28 of 120, now making spectrum.\n",
      "\t Time:0 of 1 Location:29 of 120, now making spectrum.\n",
      "\t Time:0 of 1 Location:30 of 120, now making spectrum.\n",
      "\t Time:0 of 1 Location:31 of 120, now making spectrum.\n",
      "\t Time:0 of 1 Location:32 of 120, now making spectrum.\n",
      "\t Time:0 of 1 Location:33 of 120, now making spectrum.\n",
      "\t Time:0 of 1 Location:34 of 120, now making spectrum.\n",
      "\t Time:0 of 1 Location:35 of 120, now making spectrum.\n",
      "\t Time:0 of 1 Location:36 of 120, now making spectrum.\n",
      "\t Time:0 of 1 Location:37 of 120, now making spectrum.\n",
      "\t Time:0 of 1 Location:38 of 120, now making spectrum.\n",
      "\t Time:0 of 1 Location:39 of 120, now making spectrum.\n",
      "\t Time:0 of 1 Location:40 of 120, now making spectrum.\n",
      "\t Time:0 of 1 Location:41 of 120, now making spectrum.\n",
      "\t Time:0 of 1 Location:42 of 120, now making spectrum.\n",
      "\t Time:0 of 1 Location:43 of 120, now making spectrum.\n",
      "\t Time:0 of 1 Location:44 of 120, now making spectrum.\n",
      "\t Time:0 of 1 Location:45 of 120, now making spectrum.\n",
      "\t Time:0 of 1 Location:46 of 120, now making spectrum.\n",
      "\t Time:0 of 1 Location:47 of 120, now making spectrum.\n",
      "\t Time:0 of 1 Location:48 of 120, now making spectrum.\n",
      "\t Time:0 of 1 Location:49 of 120, now making spectrum.\n",
      "\t Time:0 of 1 Location:50 of 120, now making spectrum.\n",
      "\t Time:0 of 1 Location:51 of 120, now making spectrum.\n",
      "\t Time:0 of 1 Location:52 of 120, now making spectrum.\n",
      "\t Time:0 of 1 Location:53 of 120, now making spectrum.\n",
      "\t Time:0 of 1 Location:54 of 120, now making spectrum.\n",
      "\t Time:0 of 1 Location:55 of 120, now making spectrum.\n",
      "\t Time:0 of 1 Location:56 of 120, now making spectrum.\n",
      "\t Time:0 of 1 Location:57 of 120, now making spectrum.\n",
      "\t Time:0 of 1 Location:58 of 120, now making spectrum.\n",
      "\t Time:0 of 1 Location:59 of 120, now making spectrum.\n",
      "\t Time:0 of 1 Location:60 of 120, now making spectrum.\n",
      "\t Time:0 of 1 Location:61 of 120, now making spectrum.\n",
      "\t Time:0 of 1 Location:62 of 120, now making spectrum.\n",
      "\t Time:0 of 1 Location:63 of 120, now making spectrum.\n",
      "\t Time:0 of 1 Location:64 of 120, now making spectrum.\n",
      "\t Time:0 of 1 Location:65 of 120, now making spectrum.\n",
      "\t Time:0 of 1 Location:66 of 120, now making spectrum.\n",
      "\t Time:0 of 1 Location:67 of 120, now making spectrum.\n",
      "\t Time:0 of 1 Location:68 of 120, now making spectrum.\n",
      "\t Time:0 of 1 Location:69 of 120, now making spectrum.\n",
      "\t Time:0 of 1 Location:70 of 120, now making spectrum.\n",
      "\t Time:0 of 1 Location:71 of 120, now making spectrum.\n",
      "\t Time:0 of 1 Location:72 of 120, now making spectrum.\n",
      "\t Time:0 of 1 Location:73 of 120, now making spectrum.\n",
      "\t Time:0 of 1 Location:74 of 120, now making spectrum.\n",
      "\t Time:0 of 1 Location:75 of 120, now making spectrum.\n",
      "\t Time:0 of 1 Location:76 of 120, now making spectrum.\n",
      "\t Time:0 of 1 Location:77 of 120, now making spectrum.\n",
      "\t Time:0 of 1 Location:78 of 120, now making spectrum.\n",
      "\t Time:0 of 1 Location:79 of 120, now making spectrum.\n",
      "\t Time:0 of 1 Location:80 of 120, now making spectrum.\n",
      "\t Time:0 of 1 Location:81 of 120, now making spectrum.\n",
      "\t Time:0 of 1 Location:82 of 120, now making spectrum.\n",
      "\t Time:0 of 1 Location:83 of 120, now making spectrum.\n",
      "\t Time:0 of 1 Location:84 of 120, now making spectrum.\n",
      "\t Time:0 of 1 Location:85 of 120, now making spectrum.\n",
      "\t Time:0 of 1 Location:86 of 120, now making spectrum.\n",
      "\t Time:0 of 1 Location:87 of 120, now making spectrum.\n",
      "\t Time:0 of 1 Location:88 of 120, now making spectrum.\n",
      "\t Time:0 of 1 Location:89 of 120, now making spectrum.\n",
      "\t Time:0 of 1 Location:90 of 120, now making spectrum.\n",
      "\t Time:0 of 1 Location:91 of 120, now making spectrum.\n",
      "\t Time:0 of 1 Location:92 of 120, now making spectrum.\n",
      "\t Time:0 of 1 Location:93 of 120, now making spectrum.\n",
      "\t Time:0 of 1 Location:94 of 120, now making spectrum.\n",
      "\t Time:0 of 1 Location:95 of 120, now making spectrum.\n",
      "\t Time:0 of 1 Location:96 of 120, now making spectrum.\n",
      "\t Time:0 of 1 Location:97 of 120, now making spectrum.\n",
      "\t Time:0 of 1 Location:98 of 120, now making spectrum.\n",
      "\t Time:0 of 1 Location:99 of 120, now making spectrum.\n",
      "\t Time:0 of 1 Location:100 of 120, now making spectrum.\n",
      "\t Time:0 of 1 Location:101 of 120, now making spectrum.\n",
      "\t Time:0 of 1 Location:102 of 120, now making spectrum.\n",
      "\t Time:0 of 1 Location:103 of 120, now making spectrum.\n",
      "\t Time:0 of 1 Location:104 of 120, now making spectrum.\n",
      "\t Time:0 of 1 Location:105 of 120, now making spectrum.\n",
      "\t Time:0 of 1 Location:106 of 120, now making spectrum.\n",
      "\t Time:0 of 1 Location:107 of 120, now making spectrum.\n",
      "\t Time:0 of 1 Location:108 of 120, now making spectrum.\n",
      "\t Time:0 of 1 Location:109 of 120, now making spectrum.\n",
      "\t Time:0 of 1 Location:110 of 120, now making spectrum.\n",
      "\t Time:0 of 1 Location:111 of 120, now making spectrum.\n",
      "\t Time:0 of 1 Location:112 of 120, now making spectrum.\n",
      "\t Time:0 of 1 Location:113 of 120, now making spectrum.\n",
      "\t Time:0 of 1 Location:114 of 120, now making spectrum.\n",
      "\t Time:0 of 1 Location:115 of 120, now making spectrum.\n",
      "\t Time:0 of 1 Location:116 of 120, now making spectrum.\n",
      "\t Time:0 of 1 Location:117 of 120, now making spectrum.\n",
      "\t Time:0 of 1 Location:118 of 120, now making spectrum.\n",
      "\t Time:0 of 1 Location:119 of 120, now making spectrum.\n",
      "Finished file 0 stats.h5 starting at 2016-12-03 18:17:43.209094\n",
      "\n",
      "All spectrums created already\n",
      "\n",
      "Data Now being created.\n",
      "\tData from 0 of 1 being processed Name: 0.0 spectrum.h5.\n"
     ]
    },
    {
     "name": "stderr",
     "output_type": "stream",
     "text": [
      "/Users/Bodangles/anaconda/lib/python2.7/site-packages/numpy/lib/shape_base.py:873: VisibleDeprecationWarning: using a non-integer number instead of an integer will result in an error in the future\n",
      "  return c.reshape(shape_out)\n"
     ]
    },
    {
     "name": "stdout",
     "output_type": "stream",
     "text": [
      "\t\t Making Beam 0 of 1\n",
      "Forming ACF estimates\n",
      "\tTime 0 of 1\n",
      "\t\tBeam 0 of 0\n",
      "\n",
      "Data Now being fit.\n",
      "\tData for time 0 of 1 now being fit.\n",
      "\t Time:0 of 1 Location:0 of 156 now being fit.\n",
      "\t Time:0 of 1 Location:1 of 156 now being fit.\n"
     ]
    },
    {
     "name": "stderr",
     "output_type": "stream",
     "text": [
      "/Users/Bodangles/Documents/Python/SimISR/SimISR/specfunctions.py:134: RuntimeWarning: overflow encountered in exp\n",
      "  grt0 = sp.exp(-datablock)\n",
      "/Users/Bodangles/Documents/Python/ISRSpectrum/ISRSpectrum/ISRSpectrum.py:394: ComplexWarning: Casting complex values to real discards the imaginary part\n",
      "  nuperp[-1] = nuei +nuee\n",
      "/Users/Bodangles/Documents/Python/ISRSpectrum/ISRSpectrum/ISRSpectrum.py:395: ComplexWarning: Casting complex values to real discards the imaginary part\n",
      "  nuparr[-1] = nuei\n",
      "/Users/Bodangles/Documents/Python/ISRSpectrum/ISRSpectrum/ISRSpectrum.py:399: ComplexWarning: Casting complex values to real discards the imaginary part\n",
      "  nuparr[si]=nuparr[si]+Bst[s][t]*Ni[ti]/sp.power(Ti[ti],1.5)\n",
      "/Users/Bodangles/Documents/Python/ISRSpectrum/ISRSpectrum/ISRSpectrum.py:247: RuntimeWarning: overflow encountered in exp\n",
      "  gord = (sp.sqrt(sp.pi)*sp.exp(-theta**2)-1j*2.0*scipy.special.dawsn(theta))/(K*C*sp.sqrt(2))\n",
      "/Users/Bodangles/Documents/Python/ISRSpectrum/ISRSpectrum/ISRSpectrum.py:247: RuntimeWarning: invalid value encountered in multiply\n",
      "  gord = (sp.sqrt(sp.pi)*sp.exp(-theta**2)-1j*2.0*scipy.special.dawsn(theta))/(K*C*sp.sqrt(2))\n",
      "/Users/Bodangles/Documents/Python/ISRSpectrum/ISRSpectrum/ISRSpectrum.py:247: RuntimeWarning: invalid value encountered in subtract\n",
      "  gord = (sp.sqrt(sp.pi)*sp.exp(-theta**2)-1j*2.0*scipy.special.dawsn(theta))/(K*C*sp.sqrt(2))\n",
      "/Users/Bodangles/anaconda/lib/python2.7/site-packages/numpy/lib/scimath.py:120: RuntimeWarning: invalid value encountered in less\n",
      "  if any(isreal(x) & (x < 0)):\n",
      "/Users/Bodangles/Documents/Python/ISRSpectrum/ISRSpectrum/ISRSpectrum.py:247: RuntimeWarning: invalid value encountered in divide\n",
      "  gord = (sp.sqrt(sp.pi)*sp.exp(-theta**2)-1j*2.0*scipy.special.dawsn(theta))/(K*C*sp.sqrt(2))\n",
      "/Users/Bodangles/Documents/Python/ISRSpectrum/ISRSpectrum/ISRSpectrum.py:150: RuntimeWarning: overflow encountered in square\n",
      "  enum = sp.absolute(1j+sig_sum)**2*nte\n",
      "/Users/Bodangles/Documents/Python/ISRSpectrum/ISRSpectrum/ISRSpectrum.py:151: RuntimeWarning: overflow encountered in square\n",
      "  den = sp.absolute(1j + sig_sum +sig_e)**2\n",
      "/Users/Bodangles/Documents/Python/ISRSpectrum/ISRSpectrum/ISRSpectrum.py:153: RuntimeWarning: invalid value encountered in divide\n",
      "  eline = enum/den\n",
      "/Users/Bodangles/Documents/Python/ISRSpectrum/ISRSpectrum/ISRSpectrum.py:150: RuntimeWarning: overflow encountered in multiply\n",
      "  enum = sp.absolute(1j+sig_sum)**2*nte\n"
     ]
    },
    {
     "name": "stdout",
     "output_type": "stream",
     "text": [
      "\t Time:0 of 1 Location:2 of 156 now being fit.\n",
      "\t Time:0 of 1 Location:3 of 156 now being fit.\n"
     ]
    },
    {
     "name": "stderr",
     "output_type": "stream",
     "text": [
      "/Users/Bodangles/Documents/Python/SimISR/SimISR/specfunctions.py:171: RuntimeWarning: overflow encountered in double_scalars\n",
      "  penadd = sp.sqrt(sp.power(sp.absolute(yout),2).sum())*pentsum.sum()\n",
      "/Users/Bodangles/Documents/Python/ISRSpectrum/ISRSpectrum/ISRSpectrum.py:138: RuntimeWarning: overflow encountered in divide\n",
      "  sig_i = (Ni/Ne)*(1j+omeg_i*igord)/(self.K**2*mu*h_e**2/qrot**2)\n"
     ]
    },
    {
     "name": "stdout",
     "output_type": "stream",
     "text": [
      "\t Time:0 of 1 Location:4 of 156 now being fit.\n",
      "\t Time:0 of 1 Location:5 of 156 now being fit.\n",
      "\t Time:0 of 1 Location:6 of 156 now being fit.\n"
     ]
    },
    {
     "name": "stderr",
     "output_type": "stream",
     "text": [
      "/Users/Bodangles/Documents/Python/SimISR/SimISR/specfunctions.py:150: RuntimeWarning: invalid value encountered in divide\n",
      "  guess_acf = guess_acf*rcs/guess_acf[0].real\n"
     ]
    },
    {
     "name": "stdout",
     "output_type": "stream",
     "text": [
      "\t Time:0 of 1 Location:7 of 156 now being fit.\n"
     ]
    },
    {
     "name": "stderr",
     "output_type": "stream",
     "text": [
      "/Users/Bodangles/Documents/Python/ISRSpectrum/ISRSpectrum/ISRSpectrum.py:150: RuntimeWarning: invalid value encountered in multiply\n",
      "  enum = sp.absolute(1j+sig_sum)**2*nte\n"
     ]
    },
    {
     "name": "stdout",
     "output_type": "stream",
     "text": [
      "\t Time:0 of 1 Location:8 of 156 now being fit.\n",
      "\t Time:0 of 1 Location:9 of 156 now being fit.\n",
      "\t Time:0 of 1 Location:10 of 156 now being fit.\n"
     ]
    },
    {
     "name": "stderr",
     "output_type": "stream",
     "text": [
      "/Users/Bodangles/Documents/Python/ISRSpectrum/ISRSpectrum/ISRSpectrum.py:149: RuntimeWarning: overflow encountered in square\n",
      "  inum = sp.absolute(sig_e)**2*nt_sum\n",
      "/Users/Bodangles/Documents/Python/SimISR/SimISR/specfunctions.py:150: RuntimeWarning: overflow encountered in divide\n",
      "  guess_acf = guess_acf*rcs/guess_acf[0].real\n"
     ]
    },
    {
     "name": "stdout",
     "output_type": "stream",
     "text": [
      "\t Time:0 of 1 Location:11 of 156 now being fit.\n",
      "\t Time:0 of 1 Location:12 of 156 now being fit.\n",
      "\t Time:0 of 1 Location:13 of 156 now being fit.\n",
      "\t Time:0 of 1 Location:14 of 156 now being fit.\n",
      "\t Time:0 of 1 Location:15 of 156 now being fit.\n",
      "\t Time:0 of 1 Location:16 of 156 now being fit.\n"
     ]
    },
    {
     "name": "stderr",
     "output_type": "stream",
     "text": [
      "/Users/Bodangles/Documents/Python/ISRSpectrum/ISRSpectrum/ISRSpectrum.py:138: RuntimeWarning: overflow encountered in multiply\n",
      "  sig_i = (Ni/Ne)*(1j+omeg_i*igord)/(self.K**2*mu*h_e**2/qrot**2)\n",
      "/Users/Bodangles/Documents/Python/ISRSpectrum/ISRSpectrum/ISRSpectrum.py:138: RuntimeWarning: invalid value encountered in multiply\n",
      "  sig_i = (Ni/Ne)*(1j+omeg_i*igord)/(self.K**2*mu*h_e**2/qrot**2)\n",
      "/Users/Bodangles/Documents/Python/ISRSpectrum/ISRSpectrum/ISRSpectrum.py:138: RuntimeWarning: invalid value encountered in divide\n",
      "  sig_i = (Ni/Ne)*(1j+omeg_i*igord)/(self.K**2*mu*h_e**2/qrot**2)\n"
     ]
    },
    {
     "name": "stdout",
     "output_type": "stream",
     "text": [
      "\t Time:0 of 1 Location:17 of 156 now being fit.\n",
      "\t Time:0 of 1 Location:18 of 156 now being fit.\n",
      "\t Time:0 of 1 Location:19 of 156 now being fit.\n",
      "\t Time:0 of 1 Location:20 of 156 now being fit.\n",
      "\t Time:0 of 1 Location:21 of 156 now being fit.\n",
      "\t Time:0 of 1 Location:22 of 156 now being fit.\n",
      "\t Time:0 of 1 Location:23 of 156 now being fit.\n",
      "\t Time:0 of 1 Location:24 of 156 now being fit.\n",
      "\t Time:0 of 1 Location:25 of 156 now being fit.\n",
      "\t Time:0 of 1 Location:26 of 156 now being fit.\n",
      "\t Time:0 of 1 Location:27 of 156 now being fit.\n",
      "\t Time:0 of 1 Location:28 of 156 now being fit.\n",
      "\t Time:0 of 1 Location:29 of 156 now being fit.\n"
     ]
    },
    {
     "name": "stderr",
     "output_type": "stream",
     "text": [
      "/Users/Bodangles/Documents/Python/ISRSpectrum/ISRSpectrum/ISRSpectrum.py:247: RuntimeWarning: overflow encountered in subtract\n",
      "  gord = (sp.sqrt(sp.pi)*sp.exp(-theta**2)-1j*2.0*scipy.special.dawsn(theta))/(K*C*sp.sqrt(2))\n"
     ]
    },
    {
     "name": "stdout",
     "output_type": "stream",
     "text": [
      "\t Time:0 of 1 Location:30 of 156 now being fit.\n",
      "\t Time:0 of 1 Location:31 of 156 now being fit.\n",
      "\t Time:0 of 1 Location:32 of 156 now being fit.\n",
      "\t Time:0 of 1 Location:33 of 156 now being fit.\n",
      "\t Time:0 of 1 Location:34 of 156 now being fit.\n",
      "\t Time:0 of 1 Location:35 of 156 now being fit.\n",
      "\t Time:0 of 1 Location:36 of 156 now being fit.\n",
      "\t Time:0 of 1 Location:37 of 156 now being fit.\n",
      "\t Time:0 of 1 Location:38 of 156 now being fit.\n",
      "\t Time:0 of 1 Location:39 of 156 now being fit.\n",
      "\t Time:0 of 1 Location:40 of 156 now being fit.\n",
      "\t Time:0 of 1 Location:41 of 156 now being fit.\n",
      "\t Time:0 of 1 Location:42 of 156 now being fit.\n",
      "\t Time:0 of 1 Location:43 of 156 now being fit.\n",
      "\t Time:0 of 1 Location:44 of 156 now being fit.\n",
      "\t Time:0 of 1 Location:45 of 156 now being fit.\n",
      "\t Time:0 of 1 Location:46 of 156 now being fit.\n",
      "\t Time:0 of 1 Location:47 of 156 now being fit.\n",
      "\t Time:0 of 1 Location:48 of 156 now being fit.\n",
      "\t Time:0 of 1 Location:49 of 156 now being fit.\n",
      "\t Time:0 of 1 Location:50 of 156 now being fit.\n",
      "\t Time:0 of 1 Location:51 of 156 now being fit.\n",
      "\t Time:0 of 1 Location:52 of 156 now being fit.\n",
      "\t Time:0 of 1 Location:53 of 156 now being fit.\n",
      "\t Time:0 of 1 Location:54 of 156 now being fit.\n",
      "\t Time:0 of 1 Location:55 of 156 now being fit.\n",
      "\t Time:0 of 1 Location:56 of 156 now being fit.\n",
      "\t Time:0 of 1 Location:57 of 156 now being fit.\n",
      "\t Time:0 of 1 Location:58 of 156 now being fit.\n",
      "\t Time:0 of 1 Location:59 of 156 now being fit.\n",
      "\t Time:0 of 1 Location:60 of 156 now being fit.\n",
      "\t Time:0 of 1 Location:61 of 156 now being fit.\n",
      "\t Time:0 of 1 Location:62 of 156 now being fit.\n",
      "\t Time:0 of 1 Location:63 of 156 now being fit.\n",
      "\t Time:0 of 1 Location:64 of 156 now being fit.\n",
      "\t Time:0 of 1 Location:65 of 156 now being fit.\n",
      "\t Time:0 of 1 Location:66 of 156 now being fit.\n",
      "\t Time:0 of 1 Location:67 of 156 now being fit.\n",
      "\t Time:0 of 1 Location:68 of 156 now being fit.\n",
      "\t Time:0 of 1 Location:69 of 156 now being fit.\n",
      "\t Time:0 of 1 Location:70 of 156 now being fit.\n",
      "\t Time:0 of 1 Location:71 of 156 now being fit.\n",
      "\t Time:0 of 1 Location:72 of 156 now being fit.\n",
      "\t Time:0 of 1 Location:73 of 156 now being fit.\n",
      "\t Time:0 of 1 Location:74 of 156 now being fit.\n",
      "\t Time:0 of 1 Location:75 of 156 now being fit.\n",
      "\t Time:0 of 1 Location:76 of 156 now being fit.\n",
      "\t Time:0 of 1 Location:77 of 156 now being fit.\n",
      "\t Time:0 of 1 Location:78 of 156 now being fit.\n",
      "\t Time:0 of 1 Location:79 of 156 now being fit.\n",
      "\t Time:0 of 1 Location:80 of 156 now being fit.\n",
      "\t Time:0 of 1 Location:81 of 156 now being fit.\n",
      "\t Time:0 of 1 Location:82 of 156 now being fit.\n",
      "\t Time:0 of 1 Location:83 of 156 now being fit.\n",
      "\t Time:0 of 1 Location:84 of 156 now being fit.\n",
      "\t Time:0 of 1 Location:85 of 156 now being fit.\n",
      "\t Time:0 of 1 Location:86 of 156 now being fit.\n",
      "\t Time:0 of 1 Location:87 of 156 now being fit.\n",
      "\t Time:0 of 1 Location:88 of 156 now being fit.\n",
      "\t Time:0 of 1 Location:89 of 156 now being fit.\n",
      "\t Time:0 of 1 Location:90 of 156 now being fit.\n",
      "\t Time:0 of 1 Location:91 of 156 now being fit.\n",
      "\t Time:0 of 1 Location:92 of 156 now being fit.\n",
      "\t Time:0 of 1 Location:93 of 156 now being fit.\n",
      "\t Time:0 of 1 Location:94 of 156 now being fit.\n",
      "\t Time:0 of 1 Location:95 of 156 now being fit.\n",
      "\t Time:0 of 1 Location:96 of 156 now being fit.\n",
      "\t Time:0 of 1 Location:97 of 156 now being fit.\n",
      "\t Time:0 of 1 Location:98 of 156 now being fit.\n",
      "\t Time:0 of 1 Location:99 of 156 now being fit.\n",
      "\t Time:0 of 1 Location:100 of 156 now being fit.\n",
      "\t Time:0 of 1 Location:101 of 156 now being fit.\n",
      "\t Time:0 of 1 Location:102 of 156 now being fit.\n",
      "\t Time:0 of 1 Location:103 of 156 now being fit.\n",
      "\t Time:0 of 1 Location:104 of 156 now being fit.\n",
      "\t Time:0 of 1 Location:105 of 156 now being fit.\n",
      "\t Time:0 of 1 Location:106 of 156 now being fit.\n",
      "\t Time:0 of 1 Location:107 of 156 now being fit.\n",
      "\t Time:0 of 1 Location:108 of 156 now being fit.\n",
      "\t Time:0 of 1 Location:109 of 156 now being fit.\n",
      "\t Time:0 of 1 Location:110 of 156 now being fit.\n",
      "\t Time:0 of 1 Location:111 of 156 now being fit.\n",
      "\t Time:0 of 1 Location:112 of 156 now being fit.\n",
      "\t Time:0 of 1 Location:113 of 156 now being fit.\n",
      "\t Time:0 of 1 Location:114 of 156 now being fit.\n",
      "\t Time:0 of 1 Location:115 of 156 now being fit.\n",
      "\t Time:0 of 1 Location:116 of 156 now being fit.\n",
      "\t Time:0 of 1 Location:117 of 156 now being fit.\n",
      "\t Time:0 of 1 Location:118 of 156 now being fit.\n",
      "\t Time:0 of 1 Location:119 of 156 now being fit.\n",
      "\t Time:0 of 1 Location:120 of 156 now being fit.\n",
      "\t Time:0 of 1 Location:121 of 156 now being fit.\n",
      "\t Time:0 of 1 Location:122 of 156 now being fit.\n",
      "\t Time:0 of 1 Location:123 of 156 now being fit.\n",
      "\t Time:0 of 1 Location:124 of 156 now being fit.\n",
      "\t Time:0 of 1 Location:125 of 156 now being fit.\n",
      "\t Time:0 of 1 Location:126 of 156 now being fit.\n",
      "\t Time:0 of 1 Location:127 of 156 now being fit.\n",
      "\t Time:0 of 1 Location:128 of 156 now being fit.\n",
      "\t Time:0 of 1 Location:129 of 156 now being fit.\n",
      "\t Time:0 of 1 Location:130 of 156 now being fit.\n",
      "\t Time:0 of 1 Location:131 of 156 now being fit.\n",
      "\t Time:0 of 1 Location:132 of 156 now being fit.\n",
      "\t Time:0 of 1 Location:133 of 156 now being fit.\n",
      "\t Time:0 of 1 Location:134 of 156 now being fit.\n",
      "\t Time:0 of 1 Location:135 of 156 now being fit.\n",
      "\t Time:0 of 1 Location:136 of 156 now being fit.\n",
      "\t Time:0 of 1 Location:137 of 156 now being fit.\n",
      "\t Time:0 of 1 Location:138 of 156 now being fit.\n",
      "\t Time:0 of 1 Location:139 of 156 now being fit.\n",
      "\t Time:0 of 1 Location:140 of 156 now being fit.\n",
      "\t Time:0 of 1 Location:141 of 156 now being fit.\n",
      "\t Time:0 of 1 Location:142 of 156 now being fit.\n",
      "\t Time:0 of 1 Location:143 of 156 now being fit.\n",
      "\t Time:0 of 1 Location:144 of 156 now being fit.\n",
      "\t Time:0 of 1 Location:145 of 156 now being fit.\n",
      "\t Time:0 of 1 Location:146 of 156 now being fit.\n",
      "\t Time:0 of 1 Location:147 of 156 now being fit.\n",
      "\t Time:0 of 1 Location:148 of 156 now being fit.\n",
      "\t Time:0 of 1 Location:149 of 156 now being fit.\n",
      "\t Time:0 of 1 Location:150 of 156 now being fit.\n",
      "\t Time:0 of 1 Location:151 of 156 now being fit.\n",
      "\t Time:0 of 1 Location:152 of 156 now being fit.\n",
      "\t Time:0 of 1 Location:153 of 156 now being fit.\n",
      "\t Time:0 of 1 Location:154 of 156 now being fit.\n",
      "\t Time:0 of 1 Location:155 of 156 now being fit.\n",
      "\t\tData for Location 155 of 156 fitted.\n"
     ]
    },
    {
     "data": {
      "text/plain": [
       "False"
      ]
     },
     "execution_count": 4,
     "metadata": {},
     "output_type": "execute_result"
    }
   ],
   "source": [
    "functlist = ['spectrums','radardata','fitting']\n",
    "\n",
    "config = os.path.join(testpath,'stats.ini')\n",
    "\n",
    "runsim(functlist,testpath,config,True)"
   ]
  },
  {
   "cell_type": "markdown",
   "metadata": {},
   "source": [
    "## Plotting\n",
    "The data is plotted along with error bars derived from the fitter."
   ]
  },
  {
   "cell_type": "code",
   "execution_count": 5,
   "metadata": {
    "collapsed": false
   },
   "outputs": [
    {
     "name": "stderr",
     "output_type": "stream",
     "text": [
      "/Users/Bodangles/anaconda/lib/python2.7/site-packages/numpy/core/numeric.py:482: ComplexWarning: Casting complex values to real discards the imaginary part\n",
      "  return array(a, dtype, copy=False, order=order)\n"
     ]
    },
    {
     "data": {
      "image/png": "[encoded data removed]",
      "text/plain": [
       "<matplotlib.figure.Figure at 0x116f0a650>"
      ]
     },
     "metadata": {},
     "output_type": "display_data"
    }
   ],
   "source": [
    "sns.set_style(\"whitegrid\")\n",
    "sns.set_context(\"notebook\")\n",
    "fig1,axmat =plt.subplots(1,3,figsize = (16,7),sharey=True)\n",
    "axvec = axmat.flatten()\n",
    "fittedfile = os.path.join(testpath,'Fitted','fitteddata.h5')\n",
    "fitiono = IonoContainer.readh5(fittedfile)\n",
    "paramlist = ['Ne','Te','Ti']\n",
    "indlist =[sp.argwhere(ip==fitiono.Param_Names)[0][0] for ip in paramlist]\n",
    "n_indlist =[sp.argwhere(('n'+ip)==fitiono.Param_Names)[0][0] for ip in paramlist]\n",
    "\n",
    "altin =Icont1.Cart_Coords[:,2]\n",
    "altfit = fitiono.Cart_Coords[:,2]\n",
    "\n",
    "in_ind=[[1,0],[1,1],[0,1]]\n",
    "pbounds = [[1e10,1.2e11],[200.,3000.],[200.,2500.],[-100.,100.]]\n",
    "for i,iax in enumerate(axvec):\n",
    "    iinind = in_ind[i]\n",
    "    ifitind = indlist[i]\n",
    "    n_ifitind = n_indlist[i]\n",
    "    #plot input\n",
    "    indata = Icont1.Param_List[:,0,iinind[0],iinind[1]]\n",
    "    iax.plot(indata,altin)\n",
    "    #plot fitted data\n",
    "    fitdata = fitiono.Param_List[:,0,ifitind]\n",
    "    fit_error = fitiono.Param_List[:,0,n_ifitind]\n",
    "    ploth=iax.plot(fitdata,altfit)[0]\n",
    "    iax.set_xlim(pbounds[i])\n",
    "    iax.errorbar(fitdata,altfit,xerr=fit_error,fmt='-o',color=ploth.get_color())\n",
    "    iax.set_title(paramlist[i])"
   ]
  },
  {
   "cell_type": "code",
   "execution_count": null,
   "metadata": {
    "collapsed": true
   },
   "outputs": [],
   "source": []
  }
 ],
 "metadata": {
  "anaconda-cloud": {},
  "kernelspec": {
   "display_name": "Python [conda root]",
   "language": "python",
   "name": "conda-root-py"
  },
  "language_info": {
   "codemirror_mode": {
    "name": "ipython",
    "version": 2
   },
   "file_extension": ".py",
   "mimetype": "text/x-python",
   "name": "python",
   "nbconvert_exporter": "python",
   "pygments_lexer": "ipython2",
   "version": "2.7.13"
  }
 },
 "nbformat": 4,
 "nbformat_minor": 0
}
