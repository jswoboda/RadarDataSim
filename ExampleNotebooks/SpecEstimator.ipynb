{
 "cells": [
  {
   "cell_type": "code",
   "execution_count": 1,
   "metadata": {
    "collapsed": false
   },
   "outputs": [
    {
     "name": "stderr",
     "output_type": "stream",
     "text": [
      "/Users/Bodangles/anaconda/lib/python2.7/site-packages/matplotlib/__init__.py:1357: UserWarning:  This call to matplotlib.use() has no effect\n",
      "because the backend has already been chosen;\n",
      "matplotlib.use() must be called *before* pylab, matplotlib.pyplot,\n",
      "or matplotlib.backends is imported for the first time.\n",
      "\n",
      "  warnings.warn(_use_error_msg)\n"
     ]
    }
   ],
   "source": [
    "%matplotlib inline\n",
    "import matplotlib.pyplot as plt\n",
    "import scipy as sp\n",
    "from SimISR.utilFunctions import readconfigfile,makeconfigfile,MakePulseDataRepLPC\n",
    "from SimISR.IonoContainer import IonoContainer,MakeTestIonoclass\n",
    "from ISRSpectrum.ISRSpectrum import ISRSpectrum\n",
    "from SimISR.analysisplots import analysisdump\n",
    "import seaborn as sns"
   ]
  },
  {
   "cell_type": "code",
   "execution_count": null,
   "metadata": {
    "collapsed": true
   },
   "outputs": [],
   "source": [
    "rep1=1e4\n",
    "Npnts=2**7\n",
    "xin = sp.random.randn(rep1,Npnt)+1j*sp.random.randn(rep1,Npnt)"
   ]
  },
  {
   "cell_type": "code",
   "execution_count": null,
   "metadata": {
    "collapsed": true
   },
   "outputs": [],
   "source": [
    "spfreq=50e3\n",
    "nspec=128\n",
    "ISpec_ion = ISRSpectrum(centerFrequency = 449e6, nspec=nspec, sampfreq=spfreq,dFlag=True)\n",
    "\n",
    "species=['O+','e-']\n",
    "databloc = np.array([[1.66e10,1e3],[1.66e10,2.5e3]])\n",
    "\n",
    "f,cur_spec = ISpec.getspecsep(databloc,species)\n",
    "\n",
    "\n",
    "cur_pulse_data = MakePulseDataRepLPC(pulse,cur_spec,20,rep1,numtype = sp.complex128)"
   ]
  }
 ],
 "metadata": {
  "anaconda-cloud": {},
  "kernelspec": {
   "display_name": "Python [conda root]",
   "language": "python",
   "name": "conda-root-py"
  },
  "language_info": {
   "codemirror_mode": {
    "name": "ipython",
    "version": 2
   },
   "file_extension": ".py",
   "mimetype": "text/x-python",
   "name": "python",
   "nbconvert_exporter": "python",
   "pygments_lexer": "ipython2",
   "version": "2.7.12"
  }
 },
 "nbformat": 4,
 "nbformat_minor": 1
}
